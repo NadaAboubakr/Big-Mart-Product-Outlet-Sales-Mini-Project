{
 "cells": [
  {
   "cell_type": "markdown",
   "id": "ecee0853",
   "metadata": {},
   "source": [
    "### Hypothesis Generation"
   ]
  },
  {
   "cell_type": "markdown",
   "id": "ef28c683",
   "metadata": {},
   "source": [
    "1. Product attributes such as weight have a significant impact on sales.\n",
    "\n",
    "2. Store location and size have a significant impact on sales.\n",
    "\n",
    "3. Sales of a product in one store are correlated with its sales in other stores.\n",
    "\n",
    "4. The sales of a product are affected by the price of the product.\n",
    "\n",
    "5. The sales of a product are higher when it is displayed prominently in the store."
   ]
  },
  {
   "cell_type": "markdown",
   "id": "c88a14e0",
   "metadata": {},
   "source": [
    "##### significance level (alpha) for all tests will be 0.05 "
   ]
  },
  {
   "cell_type": "markdown",
   "id": "127fcf84",
   "metadata": {},
   "source": [
    "."
   ]
  },
  {
   "cell_type": "code",
   "execution_count": 1,
   "id": "06e372db",
   "metadata": {},
   "outputs": [
    {
     "name": "stdout",
     "output_type": "stream",
     "text": [
      "<class 'pandas.core.frame.DataFrame'>\n",
      "RangeIndex: 8523 entries, 0 to 8522\n",
      "Data columns (total 12 columns):\n",
      " #   Column                     Non-Null Count  Dtype  \n",
      "---  ------                     --------------  -----  \n",
      " 0   Item_Identifier            8523 non-null   object \n",
      " 1   Item_Weight                7060 non-null   float64\n",
      " 2   Item_Fat_Content           8523 non-null   object \n",
      " 3   Item_Visibility            8523 non-null   float64\n",
      " 4   Item_Type                  8523 non-null   object \n",
      " 5   Item_MRP                   8523 non-null   float64\n",
      " 6   Outlet_Identifier          8523 non-null   object \n",
      " 7   Outlet_Establishment_Year  8523 non-null   int64  \n",
      " 8   Outlet_Size                6113 non-null   object \n",
      " 9   Outlet_Location_Type       8523 non-null   object \n",
      " 10  Outlet_Type                8523 non-null   object \n",
      " 11  Item_Outlet_Sales          8523 non-null   float64\n",
      "dtypes: float64(4), int64(1), object(7)\n",
      "memory usage: 799.2+ KB\n"
     ]
    }
   ],
   "source": [
    "# importing library \n",
    "import pandas as pd\n",
    "\n",
    "# loading data\n",
    "train = pd.read_csv(\"BMPO_train.csv\")"
   ]
  },
  {
   "cell_type": "markdown",
   "id": "42cf4597",
   "metadata": {},
   "source": [
    "#### 1st Hypothesis\n",
    "H0: There is no significant impact of product attributes such as weight on sales.\n",
    "\n",
    "H1:  There is a significant impact of product attributes such as weight on sales.\n",
    "\n",
    "since we need to test a relation between two variables a correlation test will be performed \n"
   ]
  },
  {
   "cell_type": "code",
   "execution_count": 2,
   "id": "2131545f",
   "metadata": {},
   "outputs": [
    {
     "name": "stdout",
     "output_type": "stream",
     "text": [
      "Pearson correlation coefficient: 0.011550000817703888\n",
      "p-value: 0.28634393544046116\n"
     ]
    }
   ],
   "source": [
    "from scipy.stats.stats import pearsonr\n",
    "\n",
    "# remove nulls\n",
    "train['Item_Weight'].fillna(train['Item_Weight'].mean(), inplace=True)\n",
    "\n",
    "#calculation correlation coefficient and p-value between Item_Weight and sales\n",
    "corr, p_value= pearsonr(train['Item_Weight'], train['Item_Outlet_Sales'])\n",
    "print(\"Pearson correlation coefficient:\", corr)\n",
    "print(\"p-value:\", p_value)\n"
   ]
  },
  {
   "cell_type": "markdown",
   "id": "54cee935",
   "metadata": {},
   "source": [
    "since the corresponding p-value is greater than 0.05, we conclude that there is no statistically significant association between the two variables. \n",
    "Hence we fail to reject H0"
   ]
  },
  {
   "cell_type": "markdown",
   "id": "a93f6ee6",
   "metadata": {},
   "source": [
    "."
   ]
  },
  {
   "cell_type": "markdown",
   "id": "a6bcf3c7",
   "metadata": {},
   "source": [
    "#### 2nd hypothesis \n",
    "\n",
    "H0: Store location and size have no significant impact on sales.\n",
    "\n",
    "H1: Store location and size have a significant impact on sales.\n",
    "\n",
    "we can use an Analysis of Variance (ANOVA) test"
   ]
  },
  {
   "cell_type": "code",
   "execution_count": 3,
   "id": "c48213aa",
   "metadata": {},
   "outputs": [
    {
     "name": "stdout",
     "output_type": "stream",
     "text": [
      "                               sum_sq      df           F        PR(>F)\n",
      "C(Outlet_Location_Type)  5.773847e+08     2.0  102.528957  1.597219e-44\n",
      "C(Outlet_Size)           5.257626e+08     2.0   93.362181  1.150104e-40\n",
      "Residual                 1.719839e+10  6108.0         NaN           NaN\n"
     ]
    }
   ],
   "source": [
    "import statsmodels.api as sm\n",
    "from statsmodels.formula.api import ols\n",
    "\n",
    "#  creating a linear model with Item_Outlet_Sales as the dependent variable and Outlet_Location_Type and Outlet_Size as independent variables.\n",
    "model = ols('Item_Outlet_Sales ~ C(Outlet_Location_Type) + C(Outlet_Size)', data=train).fit()\n",
    "\n",
    "#ANOVA table\n",
    "table = sm.stats.anova_lm(model, typ=2)\n",
    "print(table)\n",
    "\n"
   ]
  },
  {
   "cell_type": "markdown",
   "id": "d919ea67",
   "metadata": {},
   "source": [
    "since the corresponding p-value is less than 0.05 in both location and size , we conclude that there is a statistically significant association between store's location and size with the sales . Hence we reject H0"
   ]
  },
  {
   "cell_type": "markdown",
   "id": "8d2009b5",
   "metadata": {},
   "source": [
    "."
   ]
  },
  {
   "cell_type": "markdown",
   "id": "142e2cd6",
   "metadata": {},
   "source": [
    "#### 3rd Hypothesis \n",
    "\n",
    "H0: Sales of a product in one store are not correlated with its sales in other stores\n",
    "\n",
    "H1: Sales of a product in one store are correlated with its sales in other stores\n",
    "\n",
    "correlation test will be performed"
   ]
  },
  {
   "cell_type": "code",
   "execution_count": 4,
   "id": "c54cfc42",
   "metadata": {},
   "outputs": [
    {
     "name": "stdout",
     "output_type": "stream",
     "text": [
      "Pearson correlation coefficient: 0.0028044467900002483\n",
      "p-value: 0.9118997125507567\n"
     ]
    },
    {
     "name": "stderr",
     "output_type": "stream",
     "text": [
      "<ipython-input-4-5ec1ea7ace6e>:6: SettingWithCopyWarning: \n",
      "A value is trying to be set on a copy of a slice from a DataFrame.\n",
      "Try using .loc[row_indexer,col_indexer] = value instead\n",
      "\n",
      "See the caveats in the documentation: https://pandas.pydata.org/pandas-docs/stable/user_guide/indexing.html#returning-a-view-versus-a-copy\n",
      "  sales_df['Item_Identifier'] = pd.factorize(sales_df['Item_Identifier'])[0]\n",
      "<ipython-input-4-5ec1ea7ace6e>:7: SettingWithCopyWarning: \n",
      "A value is trying to be set on a copy of a slice from a DataFrame.\n",
      "Try using .loc[row_indexer,col_indexer] = value instead\n",
      "\n",
      "See the caveats in the documentation: https://pandas.pydata.org/pandas-docs/stable/user_guide/indexing.html#returning-a-view-versus-a-copy\n",
      "  sales_df['Outlet_Identifier'] = pd.factorize(sales_df['Outlet_Identifier'])[0]\n"
     ]
    }
   ],
   "source": [
    "# select the columns we need for the hypothesis test\n",
    "sales_cols = ['Item_Identifier', 'Outlet_Identifier', 'Item_Outlet_Sales']\n",
    "sales_df = train[sales_cols]\n",
    "\n",
    "# Since the Item_Identifier and Outlet_Identifier columns contain strings, we need to encode them as numerical values\n",
    "sales_df['Item_Identifier'] = pd.factorize(sales_df['Item_Identifier'])[0]\n",
    "sales_df['Outlet_Identifier'] = pd.factorize(sales_df['Outlet_Identifier'])[0]\n",
    "\n",
    "# calculate the correlation\n",
    "item_sales = sales_df.groupby('Item_Identifier')['Item_Outlet_Sales'].sum()\n",
    "corr, p_value = pearsonr(item_sales.values, item_sales.shift().fillna(0).values)\n",
    "print(\"Pearson correlation coefficient:\", corr)\n",
    "print(\"p-value:\", p_value)\n"
   ]
  },
  {
   "cell_type": "markdown",
   "id": "611e2163",
   "metadata": {},
   "source": [
    "since the corresponding p-value is greater than 0.05, we conclude that there is no statistically significant association between  sales of a product in one store and its sales in other stores. Hence we fail to reject H0"
   ]
  },
  {
   "cell_type": "markdown",
   "id": "bd275855",
   "metadata": {},
   "source": [
    "."
   ]
  },
  {
   "cell_type": "markdown",
   "id": "ea4cfa73",
   "metadata": {},
   "source": [
    "#### 4th Hypothesis\n",
    "\n",
    "H0: The sales of a product are not affected by the price of the product\n",
    "\n",
    "H1: The sales of a product are affected by the price of the product\n",
    "\n",
    "we will calculate the correlation between the price and sales columns. then Perform a hypothesis test using a t-test "
   ]
  },
  {
   "cell_type": "code",
   "execution_count": 5,
   "id": "bcfcaaa1",
   "metadata": {},
   "outputs": [
    {
     "name": "stdout",
     "output_type": "stream",
     "text": [
      "Reject H0\n"
     ]
    }
   ],
   "source": [
    "from scipy.stats import ttest_ind\n",
    "\n",
    "\n",
    "# Calculate the Pearson correlation coefficient between the price and sales columns\n",
    "corr, _ = pearsonr(train['Item_MRP'], train['Item_Outlet_Sales'])\n",
    "\n",
    "# Perform a hypothesis test using a t-test to determine whether the correlation is statistically significant\n",
    "price_high_sales = train[train['Item_MRP'] >= train['Item_MRP'].mean()]['Item_Outlet_Sales']\n",
    "price_low_sales = train[train['Item_MRP'] < train['Item_MRP'].mean()]['Item_Outlet_Sales']\n",
    "t, p = ttest_ind(price_high_sales, price_low_sales)\n",
    "\n",
    "\n",
    "# checking results\n",
    "alpha = 0.05\n",
    "if p < alpha:\n",
    "    print(\"Reject H0\")\n",
    "else:\n",
    "    print(\"Fail to reject H0\")"
   ]
  },
  {
   "cell_type": "markdown",
   "id": "9a5a9fbd",
   "metadata": {},
   "source": [
    "since the corresponding p-value is less than 0.05, we conclude that there is a statistically significant difference in sales between high-priced and low-priced products.Hence we reject H0"
   ]
  },
  {
   "cell_type": "markdown",
   "id": "b69d4ba5",
   "metadata": {},
   "source": [
    "#### 5th Hypothesis\n",
    "\n",
    "H0: The sales of a product are not affected when it is displayed prominently in the store.\n",
    "\n",
    "H1: The sales of a product are higher when it is displayed prominently in the store."
   ]
  },
  {
   "cell_type": "code",
   "execution_count": 6,
   "id": "59ee1f34",
   "metadata": {},
   "outputs": [
    {
     "data": {
      "text/plain": [
       "9.041287179920645e-33"
      ]
     },
     "execution_count": 6,
     "metadata": {},
     "output_type": "execute_result"
    }
   ],
   "source": [
    "# Perform linear regression to determine the relationship between product display area and sales\n",
    "X = train['Item_Visibility']\n",
    "y = train['Item_Outlet_Sales']\n",
    "X = sm.add_constant(X)\n",
    "model = sm.OLS(y, X).fit()\n",
    "\n",
    "# get p-value\n",
    "model.pvalues[1]\n"
   ]
  },
  {
   "cell_type": "markdown",
   "id": "79dea82d",
   "metadata": {},
   "source": [
    "since the corresponding p-value is less than 0.05, we conclude that there is a statistically significant effect in sales when products are displayed prominently in the store.Hence we reject H0"
   ]
  }
 ],
 "metadata": {
  "kernelspec": {
   "display_name": "Python 3",
   "language": "python",
   "name": "python3"
  },
  "language_info": {
   "codemirror_mode": {
    "name": "ipython",
    "version": 3
   },
   "file_extension": ".py",
   "mimetype": "text/x-python",
   "name": "python",
   "nbconvert_exporter": "python",
   "pygments_lexer": "ipython3",
   "version": "3.8.8"
  }
 },
 "nbformat": 4,
 "nbformat_minor": 5
}
