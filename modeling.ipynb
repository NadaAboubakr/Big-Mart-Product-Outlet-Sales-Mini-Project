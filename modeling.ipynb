{
 "cells": [
  {
   "cell_type": "markdown",
   "id": "0551876b",
   "metadata": {},
   "source": [
    "### Linear Regression "
   ]
  },
  {
   "cell_type": "code",
   "execution_count": 114,
   "id": "ba02c220",
   "metadata": {},
   "outputs": [],
   "source": [
    "import pandas as pd\n",
    "from sklearn.linear_model import LinearRegression \n"
   ]
  },
  {
   "cell_type": "code",
   "execution_count": 115,
   "id": "26450029",
   "metadata": {},
   "outputs": [],
   "source": [
    "train = pd.read_csv(\"BMPO_train.csv\")\n",
    "test=pd.read_csv(\"BMPO_test.csv\")"
   ]
  },
  {
   "cell_type": "code",
   "execution_count": 116,
   "id": "06e7ade0",
   "metadata": {},
   "outputs": [
    {
     "name": "stdout",
     "output_type": "stream",
     "text": [
      "(6113, 10)\n",
      "(6113,)\n",
      "(4705, 10)\n"
     ]
    }
   ],
   "source": [
    "# separate  target column from the feature columns:\n",
    "xtrain = train.drop(['Item_Outlet_Sales','Item_Identifier','Outlet_Identifier','Item_Type','Outlet_Type','Item_MRP_qcut'], axis=1)\n",
    "ytrain = train['Item_Outlet_Sales'] \n",
    "xtest = test.drop(['Item_Identifier','Outlet_Identifier','Item_Type','Outlet_Type','Item_MRP_qcut'], axis=1)\n",
    "\n",
    "print(xtrain.shape)\n",
    "print(ytrain.shape)\n",
    "print(xtest.shape)"
   ]
  },
  {
   "cell_type": "code",
   "execution_count": 117,
   "id": "be516634",
   "metadata": {},
   "outputs": [],
   "source": [
    "# Fit model on the training data\n",
    "model = LinearRegression().fit(xtrain, ytrain)"
   ]
  },
  {
   "cell_type": "code",
   "execution_count": 118,
   "id": "4205c78b",
   "metadata": {},
   "outputs": [],
   "source": [
    "#Predict on the testing data\n",
    "y_pred = model.predict(xtest)"
   ]
  },
  {
   "cell_type": "code",
   "execution_count": 119,
   "id": "0763aa15",
   "metadata": {},
   "outputs": [
    {
     "name": "stdout",
     "output_type": "stream",
     "text": [
      "coefficient of determination: 0.46919485779566616\n",
      "intercept: -127.63500741811448\n",
      "coefficients: [-0.00980709  0.01249349 -0.06237951  0.58928394  0.06434409 -0.30128912\n",
      "  0.33182579  0.0226325  -0.73432709 -2.210074  ]\n"
     ]
    }
   ],
   "source": [
    "#coefficient of determination\n",
    "r_sq = model.score(xtrain, ytrain)\n",
    "\n",
    "print(f\"coefficient of determination: {r_sq}\")\n",
    "print(f\"intercept: {model.intercept_}\")\n",
    "print(f\"coefficients: {model.coef_}\")"
   ]
  },
  {
   "cell_type": "markdown",
   "id": "d77035a5",
   "metadata": {},
   "source": [
    "."
   ]
  },
  {
   "cell_type": "markdown",
   "id": "63bbba32",
   "metadata": {},
   "source": [
    "### Regularized Linear Regression"
   ]
  },
  {
   "cell_type": "code",
   "execution_count": 120,
   "id": "7dcc8def",
   "metadata": {},
   "outputs": [],
   "source": [
    "from sklearn.linear_model import Lasso\n",
    "from sklearn.preprocessing import StandardScaler\n",
    "from sklearn.model_selection import train_test_split\n",
    "from sklearn.metrics import mean_squared_error"
   ]
  },
  {
   "cell_type": "code",
   "execution_count": 121,
   "id": "021528bc",
   "metadata": {},
   "outputs": [],
   "source": [
    "X = train.drop(['Item_Outlet_Sales','Item_Identifier','Outlet_Identifier','Item_Type','Outlet_Type','Item_MRP_qcut'], axis=1)\n",
    "y = train['Item_Outlet_Sales']\n",
    "\n",
    "# Split into train and validation sets\n",
    "X_train, X_val, y_train, y_val = train_test_split(X, y, test_size=0.2, random_state=42)\n"
   ]
  },
  {
   "cell_type": "code",
   "execution_count": 122,
   "id": "257c5b88",
   "metadata": {},
   "outputs": [
    {
     "name": "stdout",
     "output_type": "stream",
     "text": [
      "MSE: 0.5999212204836335\n",
      "R2: 0.38494022711091747\n"
     ]
    }
   ],
   "source": [
    "# Fit Lasso regression\n",
    "lasso = Lasso(alpha=0.1)\n",
    "lasso.fit(X_train, y_train)\n",
    "\n",
    "# Evaluate on validation set\n",
    "y_pred = lasso.predict(X_val)\n",
    "mse = mean_squared_error(y_val, y_pred)\n",
    "r2 = lasso.score(X_val, y_val)\n",
    "\n",
    "print(\"MSE:\", mse)\n",
    "print(\"R2:\", r2)"
   ]
  },
  {
   "cell_type": "markdown",
   "id": "33f36cde",
   "metadata": {},
   "source": [
    "."
   ]
  },
  {
   "cell_type": "markdown",
   "id": "3c2b4685",
   "metadata": {},
   "source": [
    "### Random Forest "
   ]
  },
  {
   "cell_type": "code",
   "execution_count": 123,
   "id": "3ec2be0b",
   "metadata": {},
   "outputs": [],
   "source": [
    "from sklearn.ensemble import RandomForestRegressor"
   ]
  },
  {
   "cell_type": "code",
   "execution_count": 124,
   "id": "aab8eeab",
   "metadata": {},
   "outputs": [],
   "source": [
    "X = train.drop(['Item_Outlet_Sales','Item_Identifier','Outlet_Identifier','Item_Type','Outlet_Type','Item_MRP_qcut'], axis=1)\n",
    "y = train['Item_Outlet_Sales']\n",
    "X_test = test.drop(['Item_Identifier','Outlet_Identifier','Item_Type','Outlet_Type','Item_MRP_qcut'], axis=1)\n",
    "\n",
    "# Split into train and validation sets\n",
    "X_train, X_val, y_train, y_val = train_test_split(X, y, test_size=0.2, random_state=42)\n"
   ]
  },
  {
   "cell_type": "code",
   "execution_count": 125,
   "id": "9fb8fa66",
   "metadata": {},
   "outputs": [],
   "source": [
    "rf = RandomForestRegressor(n_estimators=100, random_state=42)\n",
    "\n",
    "# Train the random forest model \n",
    "rf.fit(X_train, y_train)\n",
    "\n",
    "# Make predictions on the validation set \n",
    "y_pred = rf.predict(X_val)\n"
   ]
  },
  {
   "cell_type": "code",
   "execution_count": 126,
   "id": "360f9eb6",
   "metadata": {},
   "outputs": [
    {
     "name": "stdout",
     "output_type": "stream",
     "text": [
      "Mean Squared Error: 0.42380756461164737\n",
      "R-squared: 0.565497976169979\n"
     ]
    }
   ],
   "source": [
    "# Evaluate the model using metrics such as mean squared error, R-squared, and feature importance\n",
    "mse = mean_squared_error(y_val, y_pred)\n",
    "r2 = r2_score(y_val, y_pred)\n",
    "print('Mean Squared Error:', mse)\n",
    "print('R-squared:', r2)"
   ]
  },
  {
   "cell_type": "code",
   "execution_count": 127,
   "id": "958be012",
   "metadata": {},
   "outputs": [],
   "source": [
    "# make predictions on the test dataset\n",
    "y_pred_test = rf.predict(X_test)"
   ]
  },
  {
   "cell_type": "markdown",
   "id": "c214edba",
   "metadata": {},
   "source": [
    "."
   ]
  },
  {
   "cell_type": "markdown",
   "id": "ebf88d19",
   "metadata": {},
   "source": [
    "### XGBoost"
   ]
  },
  {
   "cell_type": "code",
   "execution_count": 128,
   "id": "8f4b6f81",
   "metadata": {},
   "outputs": [],
   "source": [
    "import xgboost as xgb\n",
    "from xgboost import XGBRegressor\n"
   ]
  },
  {
   "cell_type": "code",
   "execution_count": 129,
   "id": "2e9da10a",
   "metadata": {},
   "outputs": [],
   "source": [
    "X = train.drop(['Item_Outlet_Sales','Item_Identifier','Outlet_Identifier','Item_Type','Outlet_Type','Item_MRP_qcut'], axis=1)\n",
    "y = train['Item_Outlet_Sales']\n",
    "X_test = test.drop(['Item_Identifier','Outlet_Identifier','Item_Type','Outlet_Type','Item_MRP_qcut'], axis=1)\n",
    "\n",
    "# Split into train and validation sets\n",
    "X_train, X_val, y_train, y_val = train_test_split(X, y, test_size=0.2, random_state=42)\n"
   ]
  },
  {
   "cell_type": "code",
   "execution_count": 131,
   "id": "1de1c99d",
   "metadata": {},
   "outputs": [],
   "source": [
    "model = XGBRegressor(n_estimators=100, learning_rate=0.05, max_depth=5, objective=\"reg:squarederror\", random_state=42)\n",
    "\n",
    "# Train the model on the training set\n",
    "model.fit(X_train, y_train)\n",
    "\n",
    "# Make predictions on the validation set\n",
    "y_pred = model.predict(X_val)"
   ]
  },
  {
   "cell_type": "code",
   "execution_count": 132,
   "id": "fe7fbc3a",
   "metadata": {},
   "outputs": [
    {
     "name": "stdout",
     "output_type": "stream",
     "text": [
      "MSE: 0.3871243818861729\n",
      "R-squared: 0.6031068309089231\n"
     ]
    }
   ],
   "source": [
    "# Evaluate the model's performance using evaluation metrics such as mean squared error or R-squared\n",
    "mse = mean_squared_error(y_val, y_pred)\n",
    "r2 = r2_score(y_val, y_pred)\n",
    "print(\"MSE:\", mse)\n",
    "print(\"R-squared:\", r2)"
   ]
  }
 ],
 "metadata": {
  "kernelspec": {
   "display_name": "Python 3",
   "language": "python",
   "name": "python3"
  },
  "language_info": {
   "codemirror_mode": {
    "name": "ipython",
    "version": 3
   },
   "file_extension": ".py",
   "mimetype": "text/x-python",
   "name": "python",
   "nbconvert_exporter": "python",
   "pygments_lexer": "ipython3",
   "version": "3.8.8"
  }
 },
 "nbformat": 4,
 "nbformat_minor": 5
}
